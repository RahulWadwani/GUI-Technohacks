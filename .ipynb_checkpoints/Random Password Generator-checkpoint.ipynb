{
 "cells": [
  {
   "cell_type": "code",
   "execution_count": 2,
   "id": "2f086a12",
   "metadata": {},
   "outputs": [],
   "source": [
    "import tkinter as tk\n",
    "import random\n",
    "import string\n",
    "\n",
    "class PasswordGenerator:\n",
    "    def __init__(self, root):\n",
    "        self.root = root\n",
    "        self.root.title(\"Password Generator\")\n",
    "        self.root.geometry(\"300x200\")\n",
    "\n",
    "        self.init_ui()\n",
    "\n",
    "    def init_ui(self):\n",
    "        # Create label\n",
    "        self.label = tk.Label(self.root, text=\"Password Length:\")\n",
    "        self.label.pack(padx=10, pady=10)\n",
    "\n",
    "        # Create entry widget for password length\n",
    "        self.length_entry = tk.Entry(self.root)\n",
    "        self.length_entry.pack(padx=10, pady=10)\n",
    "\n",
    "        # Create a Generate button\n",
    "        self.generate_button = tk.Button(self.root, text=\"Generate Password\", command=self.generate_password)\n",
    "        self.generate_button.pack(padx=10, pady=10)\n",
    "\n",
    "        # Create a label to display the generated password\n",
    "        self.result_label = tk.Label(self.root, text=\"\")\n",
    "        self.result_label.pack(padx=10, pady=10)\n",
    "\n",
    "    def generate_password(self):\n",
    "        try:\n",
    "            password_length = int(self.length_entry.get())\n",
    "            if password_length <= 0:\n",
    "                raise ValueError(\"Password length must be greater than zero\")\n",
    "\n",
    "            characters = string.ascii_letters + string.digits + string.punctuation\n",
    "            password = ''.join(random.choice(characters) for _ in range(password_length))\n",
    "            \n",
    "            self.result_label.config(text=f\"Generated Password: {password}\")\n",
    "        except ValueError as e:\n",
    "            self.result_label.config(text=str(e))\n",
    "        except Exception as e:\n",
    "            self.result_label.config(text=\"An error occurred\")\n",
    "\n",
    "if __name__ == \"__main__\":\n",
    "    root = tk.Tk()\n",
    "    generator = PasswordGenerator(root)\n",
    "    root.mainloop()\n"
   ]
  }
 ],
 "metadata": {
  "kernelspec": {
   "display_name": "Python 3 (ipykernel)",
   "language": "python",
   "name": "python3"
  },
  "language_info": {
   "codemirror_mode": {
    "name": "ipython",
    "version": 3
   },
   "file_extension": ".py",
   "mimetype": "text/x-python",
   "name": "python",
   "nbconvert_exporter": "python",
   "pygments_lexer": "ipython3",
   "version": "3.10.12"
  }
 },
 "nbformat": 4,
 "nbformat_minor": 5
}
