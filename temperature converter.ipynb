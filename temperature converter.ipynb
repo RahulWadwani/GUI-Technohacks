{
 "cells": [
  {
   "cell_type": "code",
   "execution_count": 1,
   "id": "9f042c5c",
   "metadata": {},
   "outputs": [],
   "source": [
    "import tkinter as tk\n",
    "\n",
    "def convert_temperature():\n",
    "    try:\n",
    "        temperature = float(entry_temperature.get())\n",
    "        unit_from = unit_from_var.get()\n",
    "        unit_to = unit_to_var.get()\n",
    "\n",
    "        if unit_from == unit_to:\n",
    "            result.set(f\"{temperature} {unit_from}\")\n",
    "        elif unit_from == \"Celsius\" and unit_to == \"Fahrenheit\":\n",
    "            result.set(f\"{temperature} {unit_from} is {temperature * 9/5 + 32:.2f} {unit_to}\")\n",
    "        elif unit_from == \"Fahrenheit\" and unit_to == \"Celsius\":\n",
    "            result.set(f\"{temperature} {unit_from} is {(temperature - 32) * 5/9:.2f} {unit_to}\")\n",
    "        elif unit_from == \"Celsius\" and unit_to == \"Kelvin\":\n",
    "            result.set(f\"{temperature} {unit_from} is {temperature + 273.15:.2f} {unit_to}\")\n",
    "        elif unit_from == \"Kelvin\" and unit_to == \"Celsius\":\n",
    "            result.set(f\"{temperature} {unit_from} is {temperature - 273.15:.2f} {unit_to}\")\n",
    "        elif unit_from == \"Fahrenheit\" and unit_to == \"Kelvin\":\n",
    "            result.set(f\"{temperature} {unit_from} is {(temperature - 32) * 5/9 + 273.15:.2f} {unit_to}\")\n",
    "        elif unit_from == \"Kelvin\" and unit_to == \"Fahrenheit\":\n",
    "            result.set(f\"{temperature} {unit_from} is {(temperature - 273.15) * 9/5 + 32:.2f} {unit_to}\")\n",
    "\n",
    "    except ValueError:\n",
    "        result.set(\"Invalid input\")\n",
    "\n",
    "# Create the main window\n",
    "window = tk.Tk()\n",
    "window.title(\"Temperature Converter\")\n",
    "\n",
    "# Create and configure input widgets\n",
    "entry_temperature = tk.Entry(window)\n",
    "entry_temperature.grid(row=0, column=0, padx=10, pady=10)\n",
    "\n",
    "unit_from_var = tk.StringVar()\n",
    "unit_from_var.set(\"Celsius\")  # Default unit\n",
    "unit_from_menu = tk.OptionMenu(window, unit_from_var, \"Celsius\", \"Fahrenheit\", \"Kelvin\")\n",
    "unit_from_menu.grid(row=0, column=1, padx=10, pady=10)\n",
    "\n",
    "unit_to_var = tk.StringVar()\n",
    "unit_to_var.set(\"Fahrenheit\")  # Default unit\n",
    "unit_to_menu = tk.OptionMenu(window, unit_to_var, \"Celsius\", \"Fahrenheit\", \"Kelvin\")\n",
    "unit_to_menu.grid(row=0, column=2, padx=10, pady=10)\n",
    "\n",
    "# Create a label to display the result\n",
    "result = tk.StringVar()\n",
    "result_label = tk.Label(window, textvariable=result)\n",
    "result_label.grid(row=1, column=0, columnspan=3, padx=10, pady=10)\n",
    "\n",
    "# Create a Convert button\n",
    "convert_button = tk.Button(window, text=\"Convert\", command=convert_temperature)\n",
    "convert_button.grid(row=2, column=0, columnspan=3, padx=10, pady=10)\n",
    "\n",
    "# Run the Tkinter event loop\n",
    "window.mainloop()\n"
   ]
  }
 ],
 "metadata": {
  "kernelspec": {
   "display_name": "Python 3 (ipykernel)",
   "language": "python",
   "name": "python3"
  },
  "language_info": {
   "codemirror_mode": {
    "name": "ipython",
    "version": 3
   },
   "file_extension": ".py",
   "mimetype": "text/x-python",
   "name": "python",
   "nbconvert_exporter": "python",
   "pygments_lexer": "ipython3",
   "version": "3.10.12"
  }
 },
 "nbformat": 4,
 "nbformat_minor": 5
}
